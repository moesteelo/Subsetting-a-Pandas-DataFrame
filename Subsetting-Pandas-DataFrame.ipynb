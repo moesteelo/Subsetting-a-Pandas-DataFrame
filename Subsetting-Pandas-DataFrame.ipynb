{
 "cells": [
  {
   "cell_type": "code",
   "execution_count": 1,
   "id": "4f1e5b94",
   "metadata": {},
   "outputs": [],
   "source": [
    "import numpy as np\n",
    "import pandas as pd"
   ]
  },
  {
   "cell_type": "code",
   "execution_count": 3,
   "id": "5ae05518",
   "metadata": {},
   "outputs": [
    {
     "name": "stdout",
     "output_type": "stream",
     "text": [
      "0    85\n",
      "1    90\n",
      "2    70\n",
      "3    80\n",
      "Name: marks, dtype: int64\n"
     ]
    }
   ],
   "source": [
    "# A Series is a one dimensional DataFrame \n",
    "data = np.array ([85, 90, 70, 80])\n",
    "series = pd.Series(data=data, name=\"marks\")\n",
    "\n",
    "print(series)"
   ]
  },
  {
   "cell_type": "code",
   "execution_count": 4,
   "id": "51de3619",
   "metadata": {},
   "outputs": [
    {
     "name": "stdout",
     "output_type": "stream",
     "text": [
      "   age  marks\n",
      "0   25     85\n",
      "1   25     90\n",
      "2   26     70\n",
      "3   24     80\n"
     ]
    }
   ],
   "source": [
    "# This is a Series with a one-dimesnional data values and Index\n",
    "data = np.array([[25, 85],\n",
    "                 [25, 90],\n",
    "                 [26, 70],\n",
    "                 [24, 80]])\n",
    "dataframe = pd.DataFrame(data=data, columns=[\"age\", \"marks\"])\n",
    "print(dataframe)"
   ]
  },
  {
   "cell_type": "markdown",
   "id": "15fa357b",
   "metadata": {},
   "source": [
    "# Method 1: Selecting a single column using the column name"
   ]
  },
  {
   "cell_type": "code",
   "execution_count": 5,
   "id": "fbfe41d6",
   "metadata": {},
   "outputs": [
    {
     "name": "stdout",
     "output_type": "stream",
     "text": [
      "0      14.23\n",
      "1      13.20\n",
      "2      13.16\n",
      "3      14.37\n",
      "4      13.24\n",
      "       ...  \n",
      "173    13.71\n",
      "174    13.40\n",
      "175    13.27\n",
      "176    13.17\n",
      "177    14.13\n",
      "Name: alcohol, Length: 178, dtype: float64\n",
      "<class 'pandas.core.series.Series'>\n"
     ]
    }
   ],
   "source": [
    "# Load some data\n",
    "import pandas as pd\n",
    "from sklearn.datasets import load_wine\n",
    "wine = load_wine()\n",
    "df = pd.DataFrame(data=wine.data,\n",
    "                  columns=wine.feature_names)\n",
    "# Select the 'alcohol column'\n",
    "print(df['alcohol'])\n",
    "print(type(df['alcohol']))"
   ]
  },
  {
   "cell_type": "markdown",
   "id": "3dcd3bd4",
   "metadata": {},
   "source": [
    "# Method 2: Selecting multiple columns using the column names"
   ]
  },
  {
   "cell_type": "code",
   "execution_count": 6,
   "id": "ff254718",
   "metadata": {},
   "outputs": [
    {
     "data": {
      "text/html": [
       "<div>\n",
       "<style scoped>\n",
       "    .dataframe tbody tr th:only-of-type {\n",
       "        vertical-align: middle;\n",
       "    }\n",
       "\n",
       "    .dataframe tbody tr th {\n",
       "        vertical-align: top;\n",
       "    }\n",
       "\n",
       "    .dataframe thead th {\n",
       "        text-align: right;\n",
       "    }\n",
       "</style>\n",
       "<table border=\"1\" class=\"dataframe\">\n",
       "  <thead>\n",
       "    <tr style=\"text-align: right;\">\n",
       "      <th></th>\n",
       "      <th>alcohol</th>\n",
       "      <th>ash</th>\n",
       "      <th>hue</th>\n",
       "    </tr>\n",
       "  </thead>\n",
       "  <tbody>\n",
       "    <tr>\n",
       "      <th>0</th>\n",
       "      <td>14.23</td>\n",
       "      <td>2.43</td>\n",
       "      <td>1.04</td>\n",
       "    </tr>\n",
       "    <tr>\n",
       "      <th>1</th>\n",
       "      <td>13.20</td>\n",
       "      <td>2.14</td>\n",
       "      <td>1.05</td>\n",
       "    </tr>\n",
       "    <tr>\n",
       "      <th>2</th>\n",
       "      <td>13.16</td>\n",
       "      <td>2.67</td>\n",
       "      <td>1.03</td>\n",
       "    </tr>\n",
       "    <tr>\n",
       "      <th>3</th>\n",
       "      <td>14.37</td>\n",
       "      <td>2.50</td>\n",
       "      <td>0.86</td>\n",
       "    </tr>\n",
       "    <tr>\n",
       "      <th>4</th>\n",
       "      <td>13.24</td>\n",
       "      <td>2.87</td>\n",
       "      <td>1.04</td>\n",
       "    </tr>\n",
       "    <tr>\n",
       "      <th>...</th>\n",
       "      <td>...</td>\n",
       "      <td>...</td>\n",
       "      <td>...</td>\n",
       "    </tr>\n",
       "    <tr>\n",
       "      <th>173</th>\n",
       "      <td>13.71</td>\n",
       "      <td>2.45</td>\n",
       "      <td>0.64</td>\n",
       "    </tr>\n",
       "    <tr>\n",
       "      <th>174</th>\n",
       "      <td>13.40</td>\n",
       "      <td>2.48</td>\n",
       "      <td>0.70</td>\n",
       "    </tr>\n",
       "    <tr>\n",
       "      <th>175</th>\n",
       "      <td>13.27</td>\n",
       "      <td>2.26</td>\n",
       "      <td>0.59</td>\n",
       "    </tr>\n",
       "    <tr>\n",
       "      <th>176</th>\n",
       "      <td>13.17</td>\n",
       "      <td>2.37</td>\n",
       "      <td>0.60</td>\n",
       "    </tr>\n",
       "    <tr>\n",
       "      <th>177</th>\n",
       "      <td>14.13</td>\n",
       "      <td>2.74</td>\n",
       "      <td>0.61</td>\n",
       "    </tr>\n",
       "  </tbody>\n",
       "</table>\n",
       "<p>178 rows × 3 columns</p>\n",
       "</div>"
      ],
      "text/plain": [
       "     alcohol   ash   hue\n",
       "0      14.23  2.43  1.04\n",
       "1      13.20  2.14  1.05\n",
       "2      13.16  2.67  1.03\n",
       "3      14.37  2.50  0.86\n",
       "4      13.24  2.87  1.04\n",
       "..       ...   ...   ...\n",
       "173    13.71  2.45  0.64\n",
       "174    13.40  2.48  0.70\n",
       "175    13.27  2.26  0.59\n",
       "176    13.17  2.37  0.60\n",
       "177    14.13  2.74  0.61\n",
       "\n",
       "[178 rows x 3 columns]"
      ]
     },
     "execution_count": 6,
     "metadata": {},
     "output_type": "execute_result"
    }
   ],
   "source": [
    "df[['alcohol', 'ash', 'hue']]"
   ]
  },
  {
   "cell_type": "code",
   "execution_count": null,
   "id": "a55c86b0",
   "metadata": {},
   "outputs": [],
   "source": []
  }
 ],
 "metadata": {
  "kernelspec": {
   "display_name": "Python 3 (ipykernel)",
   "language": "python",
   "name": "python3"
  },
  "language_info": {
   "codemirror_mode": {
    "name": "ipython",
    "version": 3
   },
   "file_extension": ".py",
   "mimetype": "text/x-python",
   "name": "python",
   "nbconvert_exporter": "python",
   "pygments_lexer": "ipython3",
   "version": "3.8.8"
  }
 },
 "nbformat": 4,
 "nbformat_minor": 5
}
