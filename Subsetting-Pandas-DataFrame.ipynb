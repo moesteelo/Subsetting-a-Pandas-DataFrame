{
 "cells": [
  {
   "cell_type": "code",
   "execution_count": 1,
   "id": "1f3b08c2",
   "metadata": {},
   "outputs": [],
   "source": [
    "import numpy as np\n",
    "import pandas as pd"
   ]
  },
  {
   "cell_type": "code",
   "execution_count": 3,
   "id": "0f24d796",
   "metadata": {},
   "outputs": [
    {
     "name": "stdout",
     "output_type": "stream",
     "text": [
      "0    85\n",
      "1    90\n",
      "2    70\n",
      "3    80\n",
      "Name: marks, dtype: int64\n"
     ]
    }
   ],
   "source": [
    "# A Series is a one dimensional DataFrame \n",
    "data = np.array ([85, 90, 70, 80])\n",
    "series = pd.Series(data=data, name=\"marks\")\n",
    "\n",
    "print(series)"
   ]
  },
  {
   "cell_type": "code",
   "execution_count": 4,
   "id": "2dd089b2",
   "metadata": {},
   "outputs": [
    {
     "name": "stdout",
     "output_type": "stream",
     "text": [
      "   age  marks\n",
      "0   25     85\n",
      "1   25     90\n",
      "2   26     70\n",
      "3   24     80\n"
     ]
    }
   ],
   "source": [
    "# This is a Series with a one-dimesnional data values and Index\n",
    "data = np.array([[25, 85],\n",
    "                 [25, 90],\n",
    "                 [26, 70],\n",
    "                 [24, 80]])\n",
    "dataframe = pd.DataFrame(data=data, columns=[\"age\", \"marks\"])\n",
    "print(dataframe)"
   ]
  },
  {
   "cell_type": "code",
   "execution_count": 5,
   "id": "8cd0769f",
   "metadata": {},
   "outputs": [
    {
     "name": "stdout",
     "output_type": "stream",
     "text": [
      "0      14.23\n",
      "1      13.20\n",
      "2      13.16\n",
      "3      14.37\n",
      "4      13.24\n",
      "       ...  \n",
      "173    13.71\n",
      "174    13.40\n",
      "175    13.27\n",
      "176    13.17\n",
      "177    14.13\n",
      "Name: alcohol, Length: 178, dtype: float64\n",
      "<class 'pandas.core.series.Series'>\n"
     ]
    }
   ],
   "source": [
    "# Load some data\n",
    "import pandas as pd\n",
    "from sklearn.datasets import load_wine\n",
    "wine = load_wine()\n",
    "df = pd.DataFrame(data=wine.data,\n",
    "                  columns=wine.feature_names)\n",
    "# Select the 'alcohol column'\n",
    "print(df['alcohol'])\n",
    "print(type(df['alcohol']))"
   ]
  },
  {
   "cell_type": "code",
   "execution_count": null,
   "id": "03cc71c7",
   "metadata": {},
   "outputs": [],
   "source": []
  }
 ],
 "metadata": {
  "kernelspec": {
   "display_name": "Python 3 (ipykernel)",
   "language": "python",
   "name": "python3"
  },
  "language_info": {
   "codemirror_mode": {
    "name": "ipython",
    "version": 3
   },
   "file_extension": ".py",
   "mimetype": "text/x-python",
   "name": "python",
   "nbconvert_exporter": "python",
   "pygments_lexer": "ipython3",
   "version": "3.8.8"
  }
 },
 "nbformat": 4,
 "nbformat_minor": 5
}
