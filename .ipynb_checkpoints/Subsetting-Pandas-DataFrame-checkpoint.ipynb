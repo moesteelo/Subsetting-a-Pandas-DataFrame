{
 "cells": [
  {
   "cell_type": "code",
   "execution_count": 1,
   "id": "d7fc0aae",
   "metadata": {},
   "outputs": [],
   "source": [
    "import numpy as np\n",
    "import pandas as pd"
   ]
  },
  {
   "cell_type": "code",
   "execution_count": 3,
   "id": "a50d7cce",
   "metadata": {},
   "outputs": [
    {
     "name": "stdout",
     "output_type": "stream",
     "text": [
      "0    85\n",
      "1    90\n",
      "2    70\n",
      "3    80\n",
      "Name: marks, dtype: int64\n"
     ]
    }
   ],
   "source": [
    "data = np.array ([85, 90, 70, 80])\n",
    "series = pd.Series(data=data, name=\"marks\")\n",
    "\n",
    "print(series)"
   ]
  },
  {
   "cell_type": "code",
   "execution_count": 4,
   "id": "993a9ccd",
   "metadata": {},
   "outputs": [
    {
     "name": "stdout",
     "output_type": "stream",
     "text": [
      "   age  marks\n",
      "0   25     85\n",
      "1   25     90\n",
      "2   26     70\n",
      "3   24     80\n"
     ]
    }
   ],
   "source": [
    "data = np.array([[25, 85],\n",
    "                 [25, 90],\n",
    "                 [26, 70],\n",
    "                 [24, 80]])\n",
    "dataframe = pd.DataFrame(data=data, columns=[\"age\", \"marks\"])\n",
    "print(dataframe)"
   ]
  },
  {
   "cell_type": "code",
   "execution_count": null,
   "id": "2c5734e4",
   "metadata": {},
   "outputs": [],
   "source": []
  }
 ],
 "metadata": {
  "kernelspec": {
   "display_name": "Python 3 (ipykernel)",
   "language": "python",
   "name": "python3"
  },
  "language_info": {
   "codemirror_mode": {
    "name": "ipython",
    "version": 3
   },
   "file_extension": ".py",
   "mimetype": "text/x-python",
   "name": "python",
   "nbconvert_exporter": "python",
   "pygments_lexer": "ipython3",
   "version": "3.8.8"
  }
 },
 "nbformat": 4,
 "nbformat_minor": 5
}
